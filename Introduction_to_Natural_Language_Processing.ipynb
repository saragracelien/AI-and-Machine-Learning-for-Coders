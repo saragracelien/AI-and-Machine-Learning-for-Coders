{
  "nbformat": 4,
  "nbformat_minor": 0,
  "metadata": {
    "colab": {
      "provenance": [],
      "authorship_tag": "ABX9TyNw91xisPi431LhEBcWI3cJ",
      "include_colab_link": true
    },
    "kernelspec": {
      "name": "python3",
      "display_name": "Python 3"
    },
    "language_info": {
      "name": "python"
    }
  },
  "cells": [
    {
      "cell_type": "markdown",
      "metadata": {
        "id": "view-in-github",
        "colab_type": "text"
      },
      "source": [
        "<a href=\"https://colab.research.google.com/github/saragracelien/AI-and-Machine-Learning-for-Coders/blob/main/Introduction_to_Natural_Language_Processing.ipynb\" target=\"_parent\"><img src=\"https://colab.research.google.com/assets/colab-badge.svg\" alt=\"Open In Colab\"/></a>"
      ]
    },
    {
      "cell_type": "markdown",
      "source": [
        "#Encoding Language into Numbers"
      ],
      "metadata": {
        "id": "OV7d7DLUd_kb"
      }
    },
    {
      "cell_type": "markdown",
      "source": [
        "Use numbers to encode entire words instead of the letters within them. In that case, silent could be number x and listen number y, and they wouldn’t overlap with each other.\n",
        "\n",
        "Using this technique, consider a sentence like “I love my dog.” You could encode that with the numbers [1, 2, 3, 4]. If you then wanted to encode “I love my cat.” it could be [1, 2, 3, 5]. You’ve already gotten to the point where you can tell that the sentences have a similar meaning because they’re similar numerically—[1, 2, 3, 4] looks a lot like [1, 2, 3, 5]. This process is called tokenization, and you’ll explore how to do that in code next\n",
        "\n",
        "\n"
      ],
      "metadata": {
        "id": "lFvBPIeOeysF"
      }
    },
    {
      "cell_type": "markdown",
      "source": [
        "## Getting Started with Tokenization"
      ],
      "metadata": {
        "id": "nkKptt7fejQI"
      }
    },
    {
      "cell_type": "code",
      "source": [
        "import tensorflow as tf\n",
        "from tensorflow import keras\n",
        "from tensorflow.keras.preprocessing.text import Tokenizer\n",
        "sentences = [\n",
        " 'Today is a sunny day',\n",
        " 'Today is a rainy day'\n",
        "]\n",
        "tokenizer = Tokenizer(num_words = 100)\n",
        "tokenizer.fit_on_texts(sentences)\n",
        "word_index = tokenizer.word_index\n",
        "print(word_index)"
      ],
      "metadata": {
        "colab": {
          "base_uri": "https://localhost:8080/"
        },
        "id": "aEHCFm8oeDxO",
        "outputId": "072769f3-020e-486e-b5b2-3c71c44c3d69"
      },
      "execution_count": 2,
      "outputs": [
        {
          "output_type": "stream",
          "name": "stdout",
          "text": [
            "{'today': 1, 'is': 2, 'a': 3, 'day': 4, 'sunny': 5, 'rainy': 6}\n"
          ]
        }
      ]
    },
    {
      "cell_type": "markdown",
      "source": [
        "## Turning Sentences into Sequences\n",
        "\n",
        "the sequences are the tokenised words put into arrays"
      ],
      "metadata": {
        "id": "7xN9YoHDhPd4"
      }
    },
    {
      "cell_type": "code",
      "source": [
        "sentences = [\n",
        " 'Today is a sunny day',\n",
        " 'Today is a rainy day',\n",
        " 'Is it sunny today?'\n",
        "]\n",
        "tokenizer = Tokenizer(num_words = 100)\n",
        "tokenizer.fit_on_texts(sentences)\n",
        "word_index = tokenizer.word_index\n",
        "sequences = tokenizer.texts_to_sequences(sentences)\n",
        "print(sequences)"
      ],
      "metadata": {
        "colab": {
          "base_uri": "https://localhost:8080/"
        },
        "id": "89OJ4MrlhSLW",
        "outputId": "ed1d424b-d8c0-4ce2-e701-d9548769006a"
      },
      "execution_count": 4,
      "outputs": [
        {
          "output_type": "stream",
          "name": "stdout",
          "text": [
            "[[1, 2, 3, 4, 5], [1, 2, 3, 6, 5], [2, 7, 4, 1]]\n"
          ]
        }
      ]
    }
  ]
}